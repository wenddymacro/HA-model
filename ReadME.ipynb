{
 "cells": [
  {
   "cell_type": "markdown",
   "metadata": {},
   "source": [
    "# <center>异质性代理人宏观经济学的计算方法</center>\n",
    "    Alisdair McKay,    https://alisdairmckay.com/Notes/HetAgents/index.html\n",
    "    笔记：许文立，SFU/AHU/CIMERS/国民经济工程实验室（北京）\n",
    "    \n",
    "    目录\n",
    "    \n",
    "    RBC模型回顾\n",
    "    \n",
    "    内生栅格法（Endogenous Grid Method）\n",
    "    \n",
    "    生产经济的静态均衡\n",
    "    \n",
    "    完美预期转移动态\n",
    "    \n",
    "    Reiter法的经济周期\n",
    "    \n",
    "    异质性代理人新凯恩主义模型（HANK）\n",
    "    \n",
    "    算法细节\n",
    "    \n",
    "## 概述\n",
    "    \n",
    "    "
   ]
  },
  {
   "cell_type": "code",
   "execution_count": null,
   "metadata": {},
   "outputs": [],
   "source": []
  }
 ],
 "metadata": {
  "kernelspec": {
   "display_name": "Julia 1.5.3",
   "language": "julia",
   "name": "julia-1.5"
  },
  "language_info": {
   "file_extension": ".jl",
   "mimetype": "application/julia",
   "name": "julia",
   "version": "1.5.3"
  }
 },
 "nbformat": 4,
 "nbformat_minor": 4
}
